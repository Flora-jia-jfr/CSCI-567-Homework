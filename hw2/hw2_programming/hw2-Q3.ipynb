{
 "cells": [
  {
   "cell_type": "code",
   "execution_count": 1,
   "metadata": {
    "pycharm": {
     "name": "#%%\n"
    }
   },
   "outputs": [],
   "source": [
    "import numpy as np\n",
    "import matplotlib.pyplot as plt\n",
    "\n",
    "\n",
    "train_n = 100\n",
    "test_n = 1000\n",
    "d = 100"
   ]
  },
  {
   "cell_type": "code",
   "execution_count": null,
   "outputs": [],
   "source": [
    "# Initializing the dawta\n",
    "\n",
    "def initialize():\n",
    "    X_train = np.random.normal(0,1, size=(train_n,d))\n",
    "    w_true = np.random.normal(0,1, size=(d,1))\n",
    "    y_train = X_train.dot(w_true) + np.random.normal(0,0.5,size=(train_n,1))\n",
    "    X_test = np.random.normal(0,1, size=(test_n,d))\n",
    "    y_test = X_test.dot(w_true) + np.random.normal(0,0.5,size=(test_n,1))\n",
    "    return X_train, y_train, X_test, y_test, w_true"
   ],
   "metadata": {
    "collapsed": false,
    "pycharm": {
     "name": "#%%\n"
    }
   }
  },
  {
   "cell_type": "code",
   "execution_count": null,
   "outputs": [],
   "source": [
    "# Question 3.1\n",
    "\n",
    "train_error = np.zeros(10)\n",
    "test_error = np.zeros(10)\n",
    "\n",
    "for i in range(10):\n",
    "    X_train, y_train, X_test, y_test, w_true = initialize()\n",
    "\n",
    "    # least squares solution w = (X^T X)^-1 X^T y\n",
    "    w_ls = np.linalg.inv(X_train) @ (y_train)\n",
    "    # normalized training and test errors:\n",
    "    train_error[i] = np.linalg.norm(X_train.dot(w_ls) - y_train)/np.linalg.norm(y_train)\n",
    "    test_error[i] = np.linalg.norm(X_test.dot(w_ls) - y_test)/np.linalg.norm(y_test)\n",
    "\n",
    "# print(\"Training errors: \", train_error)\n",
    "# print(\"Test errors: \", test_error)\n",
    "print(\"Average training error: \", np.mean(train_error))\n",
    "print(\"Average test error: \", np.mean(test_error))"
   ],
   "metadata": {
    "collapsed": false,
    "pycharm": {
     "name": "#%%\n"
    }
   }
  },
  {
   "cell_type": "code",
   "execution_count": null,
   "outputs": [],
   "source": [
    "# Question 3.2\n",
    "# l2 regularitzaion with eig = 0.0005\n",
    "\n",
    "eig_choice = np.array([0.0005, 0.001, 0.005, 0.01, 0.05, 0.1, 0.5, 5, 50,500])\n",
    "\n",
    "train_error_all = np.zeros(eig_choice.shape)\n",
    "test_error_all = np.zeros(eig_choice.shape)\n",
    "\n",
    "for index, eig in enumerate(eig_choice):\n",
    "    train_error_eig = np.zeros(10)\n",
    "    test_error_eig = np.zeros(10)\n",
    "\n",
    "    for i in range(10):\n",
    "        X_train, y_train, X_test, y_test, w_true = initialize()\n",
    "\n",
    "        #ls solution w/ l2 regularization: w = (X^T X + eig I)^-1 X^T y\n",
    "        w_ls = np.linalg.inv(X_train.T.dot(X_train) + eig * np.identity(d)).dot(X_train.T).dot(y_train)\n",
    "        # normalize errors as in 3.1\n",
    "        train_error_eig[i] = np.linalg.norm(X_train.dot(w_ls) - y_train)/np.linalg.norm(y_train)\n",
    "        test_error_eig[i] = np.linalg.norm(X_test.dot(w_ls) - y_test)/np.linalg.norm(y_test)\n",
    "\n",
    "    # print(\"Training errors: \", train_error)\n",
    "    # print(\"Test errors: \", test_error)\n",
    "    \n",
    "    train_error_all[index] = np.mean(train_error_eig)\n",
    "    test_error_all[index] = np.mean(test_error_eig)\n",
    "\n",
    "\n",
    "# print a table showing training and test errors for each value of eig\n",
    "print(\"Lambda ‖ Train Error ‖ Test Error\")\n",
    "for index, eig in enumerate(eig_choice):\n",
    "    print(\"{:.3f}\\t{:.3f}\\t\\t {:.3f}\".format(eig, train_error_all[index], test_error_all[index]))\n",
    "\n",
    "\n",
    "\n",
    "plt.plot(eig_choice, train_error_all, label=\"Training error\")\n",
    "plt.plot(eig_choice, test_error_all, label=\"Test error\")\n",
    "plt.xscale('log')\n",
    "plt.xlabel(\"Lambda\")\n",
    "plt.ylabel(\"Error\")\n",
    "plt.legend()\n",
    "plt.show()"
   ],
   "metadata": {
    "collapsed": false,
    "pycharm": {
     "name": "#%%\n"
    }
   }
  },
  {
   "cell_type": "code",
   "execution_count": null,
   "outputs": [],
   "source": [],
   "metadata": {
    "collapsed": false,
    "pycharm": {
     "name": "#%%\n"
    }
   }
  },
  {
   "cell_type": "code",
   "execution_count": null,
   "outputs": [],
   "source": [
    "# Question 3.3\n",
    "# SGD as implicit regularization\n",
    "# initialize w = 0; run SDG on f(w) = sum (w^T x_i - y_i)^2\n",
    "# gradient for ith component is 2x_i^T (w^T x_i - y_i)\n",
    "# 1mil iterations\n",
    "\n",
    "\n",
    "eta_choice = np.array([0.00005, 0.0005, 0.005])\n",
    "train_error_all = np.zeros(eta_choice.shape)\n",
    "test_error_all = np.zeros(eta_choice.shape)\n",
    "\n",
    "train_error_ls_all = np.zeros(eta_choice.shape)\n",
    "test_error_ls_all = np.zeros(eta_choice.shape)\n",
    "\n",
    "train_error_reg_all = np.zeros(eta_choice.shape)\n",
    "test_error_reg_all = np.zeros(eta_choice.shape)\n",
    "\n",
    "\n",
    "for index, eta in enumerate(eta_choice):\n",
    "    train_error_eta = np.zeros(10)\n",
    "    test_error_eta = np.zeros(10)\n",
    "\n",
    "    # non-regularized least squares\n",
    "    train_error_ls = np.zeros(10)\n",
    "    test_error_ls = np.zeros(10)\n",
    "\n",
    "    # regularized least squares\n",
    "    train_error_reg = np.zeros(10)\n",
    "    test_error_reg = np.zeros(10)\n",
    "\n",
    "    for i in range(10):\n",
    "        X_train, y_train, X_test, y_test, w_true = initialize()\n",
    "\n",
    "        w = np.zeros((d,1))\n",
    "\n",
    "        # these are just stuff in 3.1 and 3.2\n",
    "        w_ls = np.linalg.inv(X_train.T.dot(X_train)).dot(X_train.T).dot(y_train)\n",
    "        w_ls_reg = np.linalg.inv(X_train.T.dot(X_train) + eta * np.identity(d)).dot(X_train.T).dot(y_train)\n",
    "\n",
    "        train_error_ls[i] = np.linalg.norm(X_train.dot(w_ls) - y_train)/np.linalg.norm(y_train)\n",
    "        test_error_ls[i] = np.linalg.norm(X_test.dot(w_ls) - y_test)/np.linalg.norm(y_test)\n",
    "\n",
    "        train_error_reg[i] = np.linalg.norm(X_train.dot(w_ls_reg) - y_train)/np.linalg.norm(y_train)\n",
    "        test_error_reg[i] = np.linalg.norm(X_test.dot(w_ls_reg) - y_test)/np.linalg.norm(y_test)\n",
    "        \n",
    "\n",
    "        # do SGD 1mil times\n",
    "        for iter in range(10**6):\n",
    "            # pick a random index sgd_index\n",
    "            sgd_index = np.random.randint(0,train_n)\n",
    "            # update w by gradient: w = w - eta * 2x_i (w^T x_i - y_i)\n",
    "            w = w - eta * 2 * X_train[sgd_index].reshape(d,1) * (X_train[sgd_index].dot(w) - y_train[sgd_index])\n",
    "           \n",
    "        \n",
    "        # normalize errors as in 3.1\n",
    "        train_error_eta[i] = np.linalg.norm(X_train.dot(w) - y_train)/np.linalg.norm(y_train)\n",
    "        test_error_eta[i] = np.linalg.norm(X_test.dot(w) - y_test)/np.linalg.norm(y_test)\n",
    "\n",
    "    \n",
    "    train_error_all[index] = np.mean(train_error_eta)\n",
    "    test_error_all[index] = np.mean(test_error_eta)\n",
    "\n",
    "    train_error_ls_all[index] = np.mean(train_error_ls)\n",
    "    test_error_ls_all[index] = np.mean(test_error_ls)\n",
    "\n",
    "    train_error_reg_all[index] = np.mean(train_error_reg)\n",
    "    test_error_reg_all[index] = np.mean(test_error_reg)\n",
    "\n",
    "\n",
    "print(\"Results w.r.t. eta = 0.00005, 0.0005, and 0.05, with average over 10 runs each, and 10^6 iterations on SDG:\")\n",
    "print(\" ---------------- Results on training set ---------------- \")\n",
    "print(\"SGD training errors ‖ \", train_error_all)\n",
    "print(\"LS training errors  ‖ \", train_error_ls_all)\n",
    "print(\"Ridge training errors ‖ \", train_error_reg_all)\n",
    "print(\" ---------------- Results on test set ---------------- \")\n",
    "print(\"SGD test errors ‖  \", test_error_all)\n",
    "print(\"LS test errors ‖ \", test_error_ls_all)\n",
    "print(\"Ridge test errors ‖ \", test_error_reg_all)"
   ],
   "metadata": {
    "collapsed": false,
    "pycharm": {
     "name": "#%%\n"
    }
   }
  },
  {
   "cell_type": "code",
   "execution_count": null,
   "outputs": [],
   "source": [
    "# Question 3.4\n",
    "\n",
    "eta_choice = np.array([0.00005,0.005])\n",
    "num_iter = 10**6\n",
    "\n",
    "\n",
    "# For this one, I assumed, based on the problem set's instruction, that I need to compute LS and ridge for each run to make the results consistent.\n",
    "\n",
    "\n",
    "train_error_all = np.zeros((eta_choice.shape[0], num_iter//1000))\n",
    "test_error_all = np.zeros((eta_choice.shape[0], num_iter//1000))\n",
    "w_norm_all = np.zeros((eta_choice.shape[0], num_iter//1000))\n",
    "\n",
    "true_train_error_all = np.zeros(eta_choice.shape[0])\n",
    "true_test_error_all = np.zeros(eta_choice.shape[0])\n",
    "true_w_norm_all = np.zeros(eta_choice.shape[0])\n",
    "\n",
    "for index, eta in enumerate(eta_choice):\n",
    "    X_train, y_train, X_test, y_test, w_true = initialize()\n",
    "\n",
    "    w = np.zeros((d,1))\n",
    "\n",
    "    true_train_error_all[index] = np.linalg.norm(X_train.dot(w_true) - y_train)/np.linalg.norm(y_train)\n",
    "    true_test_error_all[index] = np.linalg.norm(X_test.dot(w_true) - y_test)/np.linalg.norm(y_test)\n",
    "    true_w_norm_all[index] = np.linalg.norm(w_true)\n",
    "\n",
    "    for iter in range(num_iter):\n",
    "        # pick a random index sgd_index\n",
    "        sgd_index = np.random.randint(0,train_n)\n",
    "        # update w by gradient: w = w - eta * 2x_i (w^T x_i - y_i)\n",
    "        w = w - eta * 2 * X_train[sgd_index].reshape(d,1) * (X_train[sgd_index].dot(w) - y_train[sgd_index])\n",
    "        if iter % 1000 == 0:\n",
    "            train_error_all[index][iter//1000] = np.linalg.norm(X_train.dot(w) - y_train)/np.linalg.norm(y_train)\n",
    "            test_error_all[index][iter//1000] = np.linalg.norm(X_test.dot(w) - y_test)/np.linalg.norm(y_test)\n",
    "            w_norm_all[index][iter//1000] = np.linalg.norm(w)\n",
    "\n",
    "# plot everything\n",
    "plt.figure()\n",
    "for index, eta in enumerate(eta_choice):\n",
    "    # (i): plot training error\n",
    "    '''\n",
    "    plt.plot(np.arange(num_iter//1000), train_error_all[index], label=\"Training error, eta = \" + str(eta))\n",
    "    # draw horizontal line at true training error\n",
    "    plt.axhline(y=true_train_error_all[index], color = 'r' if index == 0 else 'b', linestyle='dotted', label=\"True training error, eta = \" + str(eta))\n",
    "    plt.title(\"Training error vs. number of iterations\")\n",
    "    plt.ylabel(\"Normalized training error\")\n",
    "    plt.ylim(0,0.3)\n",
    "\n",
    "    '''\n",
    "    # (2): plot test error\n",
    "    plt.plot(np.arange(num_iter//1000), test_error_all[index], label=\"Test error, eta = \" + str(eta))\n",
    "    # draw horizontal line at true test error\n",
    "    # plt.axhline(y=true_test_error_all[index], color = 'r' if index == 0 else 'b', linestyle='dotted', label=\"True test error, eta = \" + str(eta))\n",
    "    plt.title(\"Test error vs. number of iterations\")\n",
    "    plt.ylabel(\"Normalized test error\")\n",
    "\n",
    "    '''\n",
    "    # (3): plot w norm\n",
    "    plt.plot(np.arange(num_iter//1000), w_norm_all[index], label=\"w norm, eta = \" + str(eta))\n",
    "    # draw horizontal line at true w norm\n",
    "    plt.axhline(y=true_w_norm_all[index], color = 'r' if index == 0 else 'b', linestyle='dotted', label=\"True w norm, eta = \" + str(eta))\n",
    "    plt.title(\"w norm vs. number of iterations\")\n",
    "    plt.ylabel(\"L2 norm of w\")\n",
    "    '''\n",
    "plt.xlabel(\"Number of iterations, x1000\")\n",
    "plt.legend()\n"
   ],
   "metadata": {
    "collapsed": false,
    "pycharm": {
     "name": "#%%\n"
    }
   }
  },
  {
   "cell_type": "code",
   "execution_count": null,
   "outputs": [],
   "source": [
    "# Question 3.5\n",
    "\n",
    "def random_start(r):\n",
    "    # randomly from bonudary of r * N(0,I) \n",
    "    return np.random.normal(0,1, size=(d,1)) / np.linalg.norm(np.random.normal(0,1, size=(d,1))) * r\n",
    "\n",
    "eta = 0.00005\n",
    "num_iter = 10**6\n",
    "\n",
    "r_choice = np.array([0.1, 0.5, 1, 10, 20, 30])\n",
    "\n",
    "train_error_all = np.zeros(r_choice.shape[0])\n",
    "test_error_all = np.zeros(r_choice.shape[0])\n",
    "\n",
    "\n",
    "for index, radius in enumerate(r_choice):\n",
    "    train_error = np.zeros(10)\n",
    "    test_error = np.zeros(10)\n",
    "\n",
    "    for i in range(10):\n",
    "        X_train, y_train, X_test, y_test, w_true = initialize()\n",
    "\n",
    "        w = random_start(radius)\n",
    "\n",
    "        for iter in range(num_iter):\n",
    "            # pick a random index sgd_index\n",
    "            sgd_index = np.random.randint(0,train_n)\n",
    "            w = w - eta * 2 * X_train[sgd_index].reshape(d,1) * (X_train[sgd_index].dot(w) - y_train[sgd_index])\n",
    "\n",
    "        train_error[i] = np.linalg.norm(X_train.dot(w) - y_train)/np.linalg.norm(y_train)\n",
    "        test_error[i] = np.linalg.norm(X_test.dot(w) - y_test)/np.linalg.norm(y_test)\n",
    "    \n",
    "    train_error_all[index] = np.mean(train_error)\n",
    "    test_error_all[index] = np.mean(test_error)\n",
    "\n",
    "plt.figure()\n",
    "r_choice_str = ['0.1', '0.5', '1', '10', '20', '30']\n",
    "plt.plot(r_choice_str, train_error_all, label=\"Training error\")\n",
    "plt.plot(r_choice_str, test_error_all, label=\"Test error\")\n",
    "plt.title(\"Training and test error vs. radius\")\n",
    "plt.ylabel(\"Normalized error\")\n",
    "plt.xlabel(\"Radius\")\n",
    "# convert r_choice to string \n",
    "plt.xticks(r_choice_str)\n",
    "plt.legend()\n",
    "plt.show()\n"
   ],
   "metadata": {
    "collapsed": false,
    "pycharm": {
     "name": "#%%\n"
    }
   }
  },
  {
   "cell_type": "markdown",
   "source": [],
   "metadata": {
    "collapsed": false,
    "pycharm": {
     "name": "#%% md\n"
    }
   }
  },
  {
   "cell_type": "code",
   "execution_count": 7,
   "metadata": {
    "pycharm": {
     "name": "#%%\n"
    }
   },
   "outputs": [
    {
     "data": {
      "text/plain": "<Figure size 640x480 with 1 Axes>",
      "image/png": "[encoded data removed]"
     },
     "metadata": {},
     "output_type": "display_data"
    }
   ],
   "source": [
    "# Question 3.5\n",
    "\n",
    "def random_start(r):\n",
    "    # randomly from bonudary of r * N(0,I) \n",
    "    return np.random.normal(0,1, size=(d,1)) / np.linalg.norm(np.random.normal(0,1, size=(d,1))) * r\n",
    "\n",
    "eta = 0.00005\n",
    "num_iter = 10**6\n",
    "\n",
    "r_choice = np.array([0.1, 0.5, 1, 10, 20, 30])\n",
    "\n",
    "train_error_all = np.zeros(r_choice.shape[0])\n",
    "test_error_all = np.zeros(r_choice.shape[0])\n",
    "\n",
    "\n",
    "for index, radius in enumerate(r_choice):\n",
    "    train_error = np.zeros(10)\n",
    "    test_error = np.zeros(10)\n",
    "\n",
    "    for i in range(10):\n",
    "        X_train, y_train, X_test, y_test, w_true = initialize()\n",
    "\n",
    "        w = random_start(radius)\n",
    "\n",
    "        for iter in range(num_iter):\n",
    "            # pick a random index sgd_index\n",
    "            sgd_index = np.random.randint(0,train_n)\n",
    "            w = w - eta * 2 * X_train[sgd_index].reshape(d,1) * (X_train[sgd_index].dot(w) - y_train[sgd_index])\n",
    "\n",
    "        train_error[i] = np.linalg.norm(X_train.dot(w) - y_train)/np.linalg.norm(y_train)\n",
    "        test_error[i] = np.linalg.norm(X_test.dot(w) - y_test)/np.linalg.norm(y_test)\n",
    "    \n",
    "    train_error_all[index] = np.mean(train_error)\n",
    "    test_error_all[index] = np.mean(test_error)\n",
    "\n",
    "plt.figure()\n",
    "r_choice_str = ['0.1', '0.5', '1', '10', '20', '30']\n",
    "plt.plot(r_choice_str, train_error_all, label=\"Training error\")\n",
    "plt.plot(r_choice_str, test_error_all, label=\"Test error\")\n",
    "plt.title(\"Training and test error vs. radius\")\n",
    "plt.ylabel(\"Normalized error\")\n",
    "plt.xlabel(\"Radius\")\n",
    "# convert r_choice to string \n",
    "plt.xticks(r_choice_str)\n",
    "plt.legend()\n",
    "plt.show()\n"
   ]
  },
  {
   "cell_type": "markdown",
   "metadata": {
    "pycharm": {
     "name": "#%% md\n"
    }
   },
   "source": []
  }
 ],
 "metadata": {
  "kernelspec": {
   "display_name": "Python 3.9.10 64-bit",
   "language": "python",
   "name": "python3"
  },
  "language_info": {
   "codemirror_mode": {
    "name": "ipython",
    "version": 3
   },
   "file_extension": ".py",
   "mimetype": "text/x-python",
   "name": "python",
   "nbconvert_exporter": "python",
   "pygments_lexer": "ipython3",
   "version": "3.9.10"
  },
  "orig_nbformat": 4,
  "vscode": {
   "interpreter": {
    "hash": "aee8b7b246df8f9039afb4144a1f6fd8d2ca17a180786b69acc140d282b71a49"
   }
  }
 },
 "nbformat": 4,
 "nbformat_minor": 2
}